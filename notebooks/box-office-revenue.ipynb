{
 "cells": [
  {
   "attachments": {},
   "cell_type": "markdown",
   "metadata": {},
   "source": [
    "# Predicting Box Office Revenue"
   ]
  },
  {
   "cell_type": "code",
   "execution_count": 69,
   "metadata": {},
   "outputs": [],
   "source": [
    "import os\n",
    "import json\n",
    "import pandas as pd\n",
    "import numpy as np\n",
    "import seaborn as sns\n",
    "import matplotlib.pyplot as plt\n",
    "import matplotlib.ticker as mticker"
   ]
  },
  {
   "attachments": {},
   "cell_type": "markdown",
   "metadata": {},
   "source": [
    "### Data cleanup\n",
    "\n",
    "Join to two dataset files by movie id, and drop duplicate columns."
   ]
  },
  {
   "cell_type": "code",
   "execution_count": 70,
   "metadata": {},
   "outputs": [
    {
     "name": "stdout",
     "output_type": "stream",
     "text": [
      "Movies remaining in dataset after merge: 4803\n"
     ]
    }
   ],
   "source": [
    "movies_data = pd.read_csv('../tmdb_5000_movies.csv')\n",
    "credits_data = pd.read_csv('../tmdb_5000_credits.csv')\n",
    "\n",
    "# Perform an inner join on the movies and credits data so it's all in one dataframe\n",
    "all_movies_data = pd.merge(movies_data, credits_data, left_on='id', right_on='movie_id', how='inner', suffixes=('_movies', '_credits'))\n",
    "\n",
    "# Drop duplicate id and title fields\n",
    "all_movies_data = all_movies_data.drop(columns=['movie_id', 'title_credits'])\n",
    "# Rename original title field\n",
    "all_movies_data = all_movies_data.rename(columns={'title_movies': 'title'})\n",
    "\n",
    "print('Movies remaining in dataset after merge: {}'.format(len(all_movies_data)))"
   ]
  },
  {
   "attachments": {},
   "cell_type": "markdown",
   "metadata": {},
   "source": [
    "Drop rows with no budget or revenue data, since that's what we want to analyze. "
   ]
  },
  {
   "cell_type": "code",
   "execution_count": 71,
   "metadata": {},
   "outputs": [
    {
     "name": "stdout",
     "output_type": "stream",
     "text": [
      "Movies remaining in dataset after dropping rows without budget or revenue data: 3229\n"
     ]
    }
   ],
   "source": [
    "# Remove data with no revenue or budget info\n",
    "all_movies_data = all_movies_data[all_movies_data['budget'] > 0]\n",
    "all_movies_data = all_movies_data[all_movies_data['revenue'] > 0]\n",
    "\n",
    "print('Movies remaining in dataset after dropping rows without budget or revenue data: {}'.format(len(all_movies_data)))"
   ]
  },
  {
   "attachments": {},
   "cell_type": "markdown",
   "metadata": {},
   "source": [
    "Convert the genre field from a string to a list of dictionaries. Drop rows that cannot be formatted."
   ]
  },
  {
   "cell_type": "code",
   "execution_count": 84,
   "metadata": {},
   "outputs": [
    {
     "name": "stdout",
     "output_type": "stream",
     "text": [
      "Formatted genre field: [{'id': 28, 'name': 'Action'}, {'id': 12, 'name': 'Adventure'}, {'id': 14, 'name': 'Fantasy'}, {'id': 878, 'name': 'Science Fiction'}]\n",
      "Movies remaining in dataset after formatting genres: 3229\n"
     ]
    }
   ],
   "source": [
    "def format_genres(genre_list):\n",
    "    try:\n",
    "        return json.loads(genre_list)\n",
    "    except (ValueError, SyntaxError, TypeError):\n",
    "        return np.nan\n",
    "\n",
    "# Avoiding in-place modification here so the cells run smoothly\n",
    "all_movies_data['formatted_genres'] = all_movies_data['genres'].apply(format_genres)\n",
    "all_movies_data = all_movies_data[all_movies_data['formatted_genres'] != np.nan]\n",
    "\n",
    "print('Formatted genre field: {}'.format(all_movies_data.iloc[0]['formatted_genres']))\n",
    "print('Movies remaining in dataset after formatting genres: {}'.format(len(all_movies_data)))"
   ]
  },
  {
   "attachments": {},
   "cell_type": "markdown",
   "metadata": {},
   "source": [
    "### Descriptive Statistics"
   ]
  },
  {
   "attachments": {},
   "cell_type": "markdown",
   "metadata": {},
   "source": [
    "#### Revenue - general descriptive statistics"
   ]
  },
  {
   "cell_type": "code",
   "execution_count": 73,
   "metadata": {},
   "outputs": [
    {
     "data": {
      "text/html": [
       "<style type=\"text/css\">\n",
       "</style>\n",
       "<table id=\"T_8483d\">\n",
       "  <thead>\n",
       "    <tr>\n",
       "      <th class=\"blank level0\" >&nbsp;</th>\n",
       "      <th id=\"T_8483d_level0_col0\" class=\"col_heading level0 col0\" >revenue</th>\n",
       "    </tr>\n",
       "  </thead>\n",
       "  <tbody>\n",
       "    <tr>\n",
       "      <th id=\"T_8483d_level0_row0\" class=\"row_heading level0 row0\" >count</th>\n",
       "      <td id=\"T_8483d_row0_col0\" class=\"data row0 col0\" >3,229.00</td>\n",
       "    </tr>\n",
       "    <tr>\n",
       "      <th id=\"T_8483d_level0_row1\" class=\"row_heading level0 row1\" >mean</th>\n",
       "      <td id=\"T_8483d_row1_col0\" class=\"data row1 col0\" >121,242,957.26</td>\n",
       "    </tr>\n",
       "    <tr>\n",
       "      <th id=\"T_8483d_level0_row2\" class=\"row_heading level0 row2\" >std</th>\n",
       "      <td id=\"T_8483d_row2_col0\" class=\"data row2 col0\" >186,302,864.01</td>\n",
       "    </tr>\n",
       "    <tr>\n",
       "      <th id=\"T_8483d_level0_row3\" class=\"row_heading level0 row3\" >min</th>\n",
       "      <td id=\"T_8483d_row3_col0\" class=\"data row3 col0\" >5.00</td>\n",
       "    </tr>\n",
       "    <tr>\n",
       "      <th id=\"T_8483d_level0_row4\" class=\"row_heading level0 row4\" >25%</th>\n",
       "      <td id=\"T_8483d_row4_col0\" class=\"data row4 col0\" >17,000,000.00</td>\n",
       "    </tr>\n",
       "    <tr>\n",
       "      <th id=\"T_8483d_level0_row5\" class=\"row_heading level0 row5\" >50%</th>\n",
       "      <td id=\"T_8483d_row5_col0\" class=\"data row5 col0\" >55,184,721.00</td>\n",
       "    </tr>\n",
       "    <tr>\n",
       "      <th id=\"T_8483d_level0_row6\" class=\"row_heading level0 row6\" >75%</th>\n",
       "      <td id=\"T_8483d_row6_col0\" class=\"data row6 col0\" >146,292,009.00</td>\n",
       "    </tr>\n",
       "    <tr>\n",
       "      <th id=\"T_8483d_level0_row7\" class=\"row_heading level0 row7\" >max</th>\n",
       "      <td id=\"T_8483d_row7_col0\" class=\"data row7 col0\" >2,787,965,087.00</td>\n",
       "    </tr>\n",
       "  </tbody>\n",
       "</table>\n"
      ],
      "text/plain": [
       "<pandas.io.formats.style.Styler at 0x14593d970>"
      ]
     },
     "execution_count": 73,
     "metadata": {},
     "output_type": "execute_result"
    }
   ],
   "source": [
    "all_movies_revenue = all_movies_data['revenue']\n",
    "mean_all_movies_revenue = np.mean(all_movies_revenue)\n",
    "median_all_movies_revenue = np.median(all_movies_revenue)\n",
    "std_all_movies_revenue = np.std(all_movies_revenue)\n",
    "\n",
    "all_movies_data[['revenue']].describe().style.format(\"{:,.2f}\")"
   ]
  },
  {
   "attachments": {},
   "cell_type": "markdown",
   "metadata": {},
   "source": [
    "#### Budget - general descriptive statistics"
   ]
  },
  {
   "cell_type": "code",
   "execution_count": 74,
   "metadata": {},
   "outputs": [
    {
     "data": {
      "text/html": [
       "<style type=\"text/css\">\n",
       "</style>\n",
       "<table id=\"T_ada40\">\n",
       "  <thead>\n",
       "    <tr>\n",
       "      <th class=\"blank level0\" >&nbsp;</th>\n",
       "      <th id=\"T_ada40_level0_col0\" class=\"col_heading level0 col0\" >budget</th>\n",
       "    </tr>\n",
       "  </thead>\n",
       "  <tbody>\n",
       "    <tr>\n",
       "      <th id=\"T_ada40_level0_row0\" class=\"row_heading level0 row0\" >count</th>\n",
       "      <td id=\"T_ada40_row0_col0\" class=\"data row0 col0\" >3,229.00</td>\n",
       "    </tr>\n",
       "    <tr>\n",
       "      <th id=\"T_ada40_level0_row1\" class=\"row_heading level0 row1\" >mean</th>\n",
       "      <td id=\"T_ada40_row1_col0\" class=\"data row1 col0\" >40,654,444.77</td>\n",
       "    </tr>\n",
       "    <tr>\n",
       "      <th id=\"T_ada40_level0_row2\" class=\"row_heading level0 row2\" >std</th>\n",
       "      <td id=\"T_ada40_row2_col0\" class=\"data row2 col0\" >44,396,741.80</td>\n",
       "    </tr>\n",
       "    <tr>\n",
       "      <th id=\"T_ada40_level0_row3\" class=\"row_heading level0 row3\" >min</th>\n",
       "      <td id=\"T_ada40_row3_col0\" class=\"data row3 col0\" >1.00</td>\n",
       "    </tr>\n",
       "    <tr>\n",
       "      <th id=\"T_ada40_level0_row4\" class=\"row_heading level0 row4\" >25%</th>\n",
       "      <td id=\"T_ada40_row4_col0\" class=\"data row4 col0\" >10,500,000.00</td>\n",
       "    </tr>\n",
       "    <tr>\n",
       "      <th id=\"T_ada40_level0_row5\" class=\"row_heading level0 row5\" >50%</th>\n",
       "      <td id=\"T_ada40_row5_col0\" class=\"data row5 col0\" >25,000,000.00</td>\n",
       "    </tr>\n",
       "    <tr>\n",
       "      <th id=\"T_ada40_level0_row6\" class=\"row_heading level0 row6\" >75%</th>\n",
       "      <td id=\"T_ada40_row6_col0\" class=\"data row6 col0\" >55,000,000.00</td>\n",
       "    </tr>\n",
       "    <tr>\n",
       "      <th id=\"T_ada40_level0_row7\" class=\"row_heading level0 row7\" >max</th>\n",
       "      <td id=\"T_ada40_row7_col0\" class=\"data row7 col0\" >380,000,000.00</td>\n",
       "    </tr>\n",
       "  </tbody>\n",
       "</table>\n"
      ],
      "text/plain": [
       "<pandas.io.formats.style.Styler at 0x145a6da00>"
      ]
     },
     "execution_count": 74,
     "metadata": {},
     "output_type": "execute_result"
    }
   ],
   "source": [
    "all_movies_budget = all_movies_data['budget']\n",
    "mean_all_movies_revenue = np.mean(all_movies_budget)\n",
    "median_all_movies_revenue = np.median(all_movies_budget)\n",
    "std_all_movies_revenue = np.std(all_movies_budget)\n",
    "\n",
    "all_movies_data[['budget']].describe().style.format(\"{:,.2f}\")"
   ]
  },
  {
   "attachments": {},
   "cell_type": "markdown",
   "metadata": {},
   "source": [
    "#### Revenue:Budget Profit Ratio - general descriptive statistics"
   ]
  },
  {
   "cell_type": "code",
   "execution_count": 75,
   "metadata": {},
   "outputs": [
    {
     "data": {
      "text/html": [
       "<style type=\"text/css\">\n",
       "</style>\n",
       "<table id=\"T_07758\">\n",
       "  <thead>\n",
       "    <tr>\n",
       "      <th class=\"blank level0\" >&nbsp;</th>\n",
       "      <th id=\"T_07758_level0_col0\" class=\"col_heading level0 col0\" >profit_ratio</th>\n",
       "    </tr>\n",
       "  </thead>\n",
       "  <tbody>\n",
       "    <tr>\n",
       "      <th id=\"T_07758_level0_row0\" class=\"row_heading level0 row0\" >count</th>\n",
       "      <td id=\"T_07758_row0_col0\" class=\"data row0 col0\" >3,229.00</td>\n",
       "    </tr>\n",
       "    <tr>\n",
       "      <th id=\"T_07758_level0_row1\" class=\"row_heading level0 row1\" >mean</th>\n",
       "      <td id=\"T_07758_row1_col0\" class=\"data row1 col0\" >2,954.82</td>\n",
       "    </tr>\n",
       "    <tr>\n",
       "      <th id=\"T_07758_level0_row2\" class=\"row_heading level0 row2\" >std</th>\n",
       "      <td id=\"T_07758_row2_col0\" class=\"data row2 col0\" >150,610.10</td>\n",
       "    </tr>\n",
       "    <tr>\n",
       "      <th id=\"T_07758_level0_row3\" class=\"row_heading level0 row3\" >min</th>\n",
       "      <td id=\"T_07758_row3_col0\" class=\"data row3 col0\" >0.00</td>\n",
       "    </tr>\n",
       "    <tr>\n",
       "      <th id=\"T_07758_level0_row4\" class=\"row_heading level0 row4\" >25%</th>\n",
       "      <td id=\"T_07758_row4_col0\" class=\"data row4 col0\" >1.02</td>\n",
       "    </tr>\n",
       "    <tr>\n",
       "      <th id=\"T_07758_level0_row5\" class=\"row_heading level0 row5\" >50%</th>\n",
       "      <td id=\"T_07758_row5_col0\" class=\"data row5 col0\" >2.30</td>\n",
       "    </tr>\n",
       "    <tr>\n",
       "      <th id=\"T_07758_level0_row6\" class=\"row_heading level0 row6\" >75%</th>\n",
       "      <td id=\"T_07758_row6_col0\" class=\"data row6 col0\" >4.42</td>\n",
       "    </tr>\n",
       "    <tr>\n",
       "      <th id=\"T_07758_level0_row7\" class=\"row_heading level0 row7\" >max</th>\n",
       "      <td id=\"T_07758_row7_col0\" class=\"data row7 col0\" >8,500,000.00</td>\n",
       "    </tr>\n",
       "  </tbody>\n",
       "</table>\n"
      ],
      "text/plain": [
       "<pandas.io.formats.style.Styler at 0x14597a3d0>"
      ]
     },
     "execution_count": 75,
     "metadata": {},
     "output_type": "execute_result"
    }
   ],
   "source": [
    "all_movies_data['profit_ratio'] = all_movies_data['revenue'] / all_movies_data['budget']\n",
    "\n",
    "all_movies_profit_ratio = all_movies_data['profit_ratio']\n",
    "mean_all_movies_revenue = np.mean(all_movies_profit_ratio)\n",
    "median_all_movies_revenue = np.median(all_movies_profit_ratio)\n",
    "std_all_movies_revenue = np.std(all_movies_profit_ratio)\n",
    "\n",
    "all_movies_data[['profit_ratio']].describe().style.format(\"{:,.2f}\")"
   ]
  }
 ],
 "metadata": {
  "kernelspec": {
   "display_name": "Python 3",
   "language": "python",
   "name": "python3"
  },
  "language_info": {
   "codemirror_mode": {
    "name": "ipython",
    "version": 3
   },
   "file_extension": ".py",
   "mimetype": "text/x-python",
   "name": "python",
   "nbconvert_exporter": "python",
   "pygments_lexer": "ipython3",
   "version": "3.9.16"
  },
  "orig_nbformat": 4,
  "vscode": {
   "interpreter": {
    "hash": "9f21594391cbdefc16be5fad089d907e761ccb8b6b2baee74cd21c118061b9d8"
   }
  }
 },
 "nbformat": 4,
 "nbformat_minor": 2
}
