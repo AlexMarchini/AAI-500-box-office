{
 "cells": [
  {
   "attachments": {},
   "cell_type": "markdown",
   "metadata": {},
   "source": [
    "# Predicting Box Office Revenue"
   ]
  },
  {
   "cell_type": "code",
   "execution_count": 4,
   "metadata": {},
   "outputs": [],
   "source": [
    "import os\n",
    "import pandas as pd"
   ]
  },
  {
   "attachments": {},
   "cell_type": "markdown",
   "metadata": {},
   "source": [
    "### Data cleanup"
   ]
  },
  {
   "cell_type": "code",
   "execution_count": 23,
   "metadata": {},
   "outputs": [
    {
     "name": "stdout",
     "output_type": "stream",
     "text": [
      "Index(['budget', 'genres', 'homepage', 'id', 'keywords', 'original_language',\n",
      "       'original_title', 'overview', 'popularity', 'production_companies',\n",
      "       'production_countries', 'release_date', 'revenue', 'runtime',\n",
      "       'spoken_languages', 'status', 'tagline', 'title', 'vote_average',\n",
      "       'vote_count', 'cast', 'crew'],\n",
      "      dtype='object')\n",
      "4803\n",
      "1493\n"
     ]
    }
   ],
   "source": [
    "movies_data = pd.read_csv('../tmdb_5000_movies.csv')\n",
    "credits_data = pd.read_csv('../tmdb_5000_credits.csv')\n",
    "\n",
    "# Perform an inner join on the movies and credits data so it's all in one dataframe\n",
    "all_movies_data = pd.merge(movies_data, credits_data, left_on='id', right_on='movie_id', how='inner', suffixes=('_movies', '_credits'))\n",
    "\n",
    "# Drop duplicate id and title fields\n",
    "all_movies_data = all_movies_data.drop(columns=['movie_id', 'title_credits'])\n",
    "# Rename original title field\n",
    "all_movies_data = all_movies_data.rename(columns={'title_movies': 'title'})\n",
    "\n",
    "# Dataframe is 4803 after joining\n",
    "\n",
    "# Dropping rows with empty values reduces to only 1493, might need to be more selective\n",
    "# all_movies_data = all_movies_data.dropna()"
   ]
  }
 ],
 "metadata": {
  "kernelspec": {
   "display_name": "Python 3",
   "language": "python",
   "name": "python3"
  },
  "language_info": {
   "codemirror_mode": {
    "name": "ipython",
    "version": 3
   },
   "file_extension": ".py",
   "mimetype": "text/x-python",
   "name": "python",
   "nbconvert_exporter": "python",
   "pygments_lexer": "ipython3",
   "version": "3.9.16"
  },
  "orig_nbformat": 4,
  "vscode": {
   "interpreter": {
    "hash": "9f21594391cbdefc16be5fad089d907e761ccb8b6b2baee74cd21c118061b9d8"
   }
  }
 },
 "nbformat": 4,
 "nbformat_minor": 2
}
